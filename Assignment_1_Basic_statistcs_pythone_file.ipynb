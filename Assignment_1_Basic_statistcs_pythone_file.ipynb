{
 "cells": [
  {
   "cell_type": "code",
   "execution_count": null,
   "id": "648472ce",
   "metadata": {},
   "outputs": [],
   "source": [
    "# 20) Calculate probability from the given dataset for the below cases\n",
    "\n",
    "# Data _set: Cars.csv\n",
    "# Calculate the probability of MPG  of Cars for the below cases.\n",
    "\n",
    "# a.P(MPG>38)\n",
    "# b.P(MPG<40)\n",
    "# c.P (20<MPG<50)\n"
   ]
  },
  {
   "cell_type": "code",
   "execution_count": null,
   "id": "5e8ecd7d",
   "metadata": {
    "ExecuteTime": {
     "end_time": "2023-01-17T15:43:29.826871Z",
     "start_time": "2023-01-17T15:43:10.734378Z"
    }
   },
   "outputs": [],
   "source": [
    "import pandas as pd \n",
    "from scipy import stats\n",
    "from scipy.stats import norm"
   ]
  },
  {
   "cell_type": "code",
   "execution_count": 2,
   "id": "4b20dd6f",
   "metadata": {
    "ExecuteTime": {
     "end_time": "2023-01-17T15:37:35.024027Z",
     "start_time": "2023-01-17T15:37:34.601408Z"
    }
   },
   "outputs": [],
   "source": [
    "df=pd.read_csv(\"C:/Users/pcc/Downloads/Cars.csv\")"
   ]
  },
  {
   "cell_type": "code",
   "execution_count": 3,
   "id": "f49fd535",
   "metadata": {
    "ExecuteTime": {
     "end_time": "2023-01-17T15:37:48.673356Z",
     "start_time": "2023-01-17T15:37:48.598576Z"
    }
   },
   "outputs": [
    {
     "data": {
      "text/plain": [
       "Index(['HP', 'MPG', 'VOL', 'SP', 'WT'], dtype='object')"
      ]
     },
     "execution_count": 3,
     "metadata": {},
     "output_type": "execute_result"
    }
   ],
   "source": [
    "df.columns"
   ]
  },
  {
   "cell_type": "code",
   "execution_count": 5,
   "id": "237568df",
   "metadata": {
    "ExecuteTime": {
     "end_time": "2023-01-17T15:44:38.157089Z",
     "start_time": "2023-01-17T15:44:38.068122Z"
    }
   },
   "outputs": [
    {
     "data": {
      "text/plain": [
       "0.3475939251582705"
      ]
     },
     "execution_count": 5,
     "metadata": {},
     "output_type": "execute_result"
    }
   ],
   "source": [
    "# P(MPG>38)\n",
    "1- stats.norm.cdf(38,df[\"MPG\"].mean(),df[\"MPG\"].std())"
   ]
  },
  {
   "cell_type": "code",
   "execution_count": 6,
   "id": "07f99b46",
   "metadata": {
    "ExecuteTime": {
     "end_time": "2023-01-17T15:46:13.422518Z",
     "start_time": "2023-01-17T15:46:13.390521Z"
    }
   },
   "outputs": [
    {
     "data": {
      "text/plain": [
       "0.7293498762151616"
      ]
     },
     "execution_count": 6,
     "metadata": {},
     "output_type": "execute_result"
    }
   ],
   "source": [
    "#P(MPG<40)\n",
    "stats.norm.cdf(40,df[\"MPG\"].mean(),df[\"MPG\"].std())"
   ]
  },
  {
   "cell_type": "code",
   "execution_count": 7,
   "id": "12a8f0f3",
   "metadata": {
    "ExecuteTime": {
     "end_time": "2023-01-17T15:46:54.590479Z",
     "start_time": "2023-01-17T15:46:54.526485Z"
    }
   },
   "outputs": [
    {
     "data": {
      "text/plain": [
       "0.8988689169682046"
      ]
     },
     "execution_count": 7,
     "metadata": {},
     "output_type": "execute_result"
    }
   ],
   "source": [
    "#P (20<MPG<50)\n",
    "stats.norm.cdf(50,df[\"MPG\"].mean(),df[\"MPG\"].std())-stats.norm.cdf(20,df[\"MPG\"].mean(),df[\"MPG\"].std())"
   ]
  },
  {
   "cell_type": "code",
   "execution_count": null,
   "id": "12eceb56",
   "metadata": {},
   "outputs": [],
   "source": [
    "# 21) Check whether the data follows normal distribution\n",
    "# a)Check whether the MPG of Cars follows Normal Distribution \n",
    "#         Dataset: Cars.csv\n",
    "\n",
    "\n",
    "# b)Check Whether the Adipose Tissue (AT) and Waist Circumference(Waist)  from wc-at data set  follows Normal Distribution \n",
    "#        Dataset: wc-at.csv\n"
   ]
  },
  {
   "cell_type": "code",
   "execution_count": 8,
   "id": "fe51d159",
   "metadata": {
    "ExecuteTime": {
     "end_time": "2023-01-17T15:56:56.995399Z",
     "start_time": "2023-01-17T15:56:49.358022Z"
    }
   },
   "outputs": [],
   "source": [
    "import seaborn as sns\n",
    "import matplotlib.pyplot as plt\n"
   ]
  },
  {
   "cell_type": "code",
   "execution_count": 10,
   "id": "a28716bf",
   "metadata": {
    "ExecuteTime": {
     "end_time": "2023-01-17T15:58:37.640109Z",
     "start_time": "2023-01-17T15:58:36.999529Z"
    }
   },
   "outputs": [
    {
     "name": "stderr",
     "output_type": "stream",
     "text": [
      "C:\\ProgramData\\Anaconda3\\lib\\site-packages\\seaborn\\distributions.py:2619: FutureWarning: `distplot` is a deprecated function and will be removed in a future version. Please adapt your code to use either `displot` (a figure-level function with similar flexibility) or `histplot` (an axes-level function for histograms).\n",
      "  warnings.warn(msg, FutureWarning)\n",
      "No handles with labels found to put in legend.\n"
     ]
    },
    {
     "data": {
      "text/plain": [
       "<matplotlib.legend.Legend at 0x22b359367f0>"
      ]
     },
     "execution_count": 10,
     "metadata": {},
     "output_type": "execute_result"
    },
    {
     "data": {
      "image/png": "[encoded data removed]",
      "text/plain": [
       "<Figure size 432x288 with 1 Axes>"
      ]
     },
     "metadata": {
      "needs_background": "light"
     },
     "output_type": "display_data"
    }
   ],
   "source": [
    "sns.distplot(df[\"MPG\"])\n",
    "plt.xlabel(\"MPG\")\n",
    "plt.ylabel(\"Density\")\n",
    "plt.legend()"
   ]
  },
  {
   "cell_type": "code",
   "execution_count": 11,
   "id": "c1b021f8",
   "metadata": {
    "ExecuteTime": {
     "end_time": "2023-01-17T15:59:37.449948Z",
     "start_time": "2023-01-17T15:59:37.403076Z"
    }
   },
   "outputs": [
    {
     "data": {
      "text/plain": [
       "(34.422075728024666, 35.15272697)"
      ]
     },
     "execution_count": 11,
     "metadata": {},
     "output_type": "execute_result"
    }
   ],
   "source": [
    "df['MPG'].mean(), df[\"MPG\"].median()"
   ]
  },
  {
   "cell_type": "code",
   "execution_count": 12,
   "id": "2545e78b",
   "metadata": {
    "ExecuteTime": {
     "end_time": "2023-01-17T16:03:57.035072Z",
     "start_time": "2023-01-17T16:03:57.009087Z"
    }
   },
   "outputs": [],
   "source": [
    "df1=pd.read_csv(\"C:/Users/pcc/Downloads/wc-at.csv\")"
   ]
  },
  {
   "cell_type": "code",
   "execution_count": 13,
   "id": "4decd8ae",
   "metadata": {
    "ExecuteTime": {
     "end_time": "2023-01-17T16:04:58.862217Z",
     "start_time": "2023-01-17T16:04:58.845227Z"
    }
   },
   "outputs": [
    {
     "data": {
      "text/plain": [
       "Index(['Waist', 'AT'], dtype='object')"
      ]
     },
     "execution_count": 13,
     "metadata": {},
     "output_type": "execute_result"
    }
   ],
   "source": [
    "df1.columns"
   ]
  },
  {
   "cell_type": "code",
   "execution_count": 23,
   "id": "96889c2b",
   "metadata": {
    "ExecuteTime": {
     "end_time": "2023-01-17T16:11:24.610364Z",
     "start_time": "2023-01-17T16:11:23.780824Z"
    }
   },
   "outputs": [
    {
     "name": "stderr",
     "output_type": "stream",
     "text": [
      "C:\\ProgramData\\Anaconda3\\lib\\site-packages\\seaborn\\distributions.py:2619: FutureWarning: `distplot` is a deprecated function and will be removed in a future version. Please adapt your code to use either `displot` (a figure-level function with similar flexibility) or `histplot` (an axes-level function for histograms).\n",
      "  warnings.warn(msg, FutureWarning)\n",
      "No handles with labels found to put in legend.\n",
      "C:\\ProgramData\\Anaconda3\\lib\\site-packages\\seaborn\\distributions.py:2619: FutureWarning: `distplot` is a deprecated function and will be removed in a future version. Please adapt your code to use either `displot` (a figure-level function with similar flexibility) or `histplot` (an axes-level function for histograms).\n",
      "  warnings.warn(msg, FutureWarning)\n",
      "No handles with labels found to put in legend.\n"
     ]
    },
    {
     "data": {
      "text/plain": [
       "<matplotlib.legend.Legend at 0x22b35a9e370>"
      ]
     },
     "execution_count": 23,
     "metadata": {},
     "output_type": "execute_result"
    },
    {
     "data": {
      "image/png": "[encoded data removed]",
      "text/plain": [
       "<Figure size 432x288 with 2 Axes>"
      ]
     },
     "metadata": {
      "needs_background": "light"
     },
     "output_type": "display_data"
    }
   ],
   "source": [
    "fig, axs=plt.subplots(1,2)\n",
    "sns.distplot(df1[\"Waist\"],ax=axs[0])\n",
    "plt.xlabel(\"Waist\")\n",
    "plt.ylabel(\"Density\")\n",
    "plt.legend()\n",
    "\n",
    "sns.distplot(df1[\"AT\"],ax=axs[1])\n",
    "plt.xlabel(\"AT\")\n",
    "plt.ylabel(\"Density\")\n",
    "plt.legend()"
   ]
  },
  {
   "cell_type": "code",
   "execution_count": 24,
   "id": "628085c8",
   "metadata": {
    "ExecuteTime": {
     "end_time": "2023-01-17T16:12:17.985701Z",
     "start_time": "2023-01-17T16:12:17.966711Z"
    }
   },
   "outputs": [
    {
     "data": {
      "text/plain": [
       "(91.90183486238533, 90.8)"
      ]
     },
     "execution_count": 24,
     "metadata": {},
     "output_type": "execute_result"
    }
   ],
   "source": [
    "df1[\"Waist\"].mean(), df1[\"Waist\"].median()"
   ]
  },
  {
   "cell_type": "code",
   "execution_count": 25,
   "id": "b93cffba",
   "metadata": {
    "ExecuteTime": {
     "end_time": "2023-01-17T16:12:34.994878Z",
     "start_time": "2023-01-17T16:12:34.976887Z"
    }
   },
   "outputs": [
    {
     "data": {
      "text/plain": [
       "(101.89403669724771, 96.54)"
      ]
     },
     "execution_count": 25,
     "metadata": {},
     "output_type": "execute_result"
    }
   ],
   "source": [
    "df1[\"AT\"].mean(), df1[\"AT\"].median()"
   ]
  },
  {
   "cell_type": "code",
   "execution_count": 1,
   "id": "1b58a3f4",
   "metadata": {
    "ExecuteTime": {
     "end_time": "2023-01-18T08:50:29.816499Z",
     "start_time": "2023-01-18T08:50:29.800501Z"
    }
   },
   "outputs": [],
   "source": [
    "# 22) Calculate the Z scores of  90% confidence interval,94% confidence interval, 60% confidence interval "
   ]
  },
  {
   "cell_type": "code",
   "execution_count": 26,
   "id": "0d0ab687",
   "metadata": {
    "ExecuteTime": {
     "end_time": "2023-01-17T16:22:19.188065Z",
     "start_time": "2023-01-17T16:22:19.089114Z"
    }
   },
   "outputs": [
    {
     "data": {
      "text/plain": [
       "1.2815515655446004"
      ]
     },
     "execution_count": 26,
     "metadata": {},
     "output_type": "execute_result"
    }
   ],
   "source": [
    "stats.norm.ppf(0.90)"
   ]
  },
  {
   "cell_type": "code",
   "execution_count": 27,
   "id": "6f93e9eb",
   "metadata": {
    "ExecuteTime": {
     "end_time": "2023-01-17T16:22:51.100996Z",
     "start_time": "2023-01-17T16:22:51.079008Z"
    }
   },
   "outputs": [
    {
     "data": {
      "text/plain": [
       "1.5547735945968535"
      ]
     },
     "execution_count": 27,
     "metadata": {},
     "output_type": "execute_result"
    }
   ],
   "source": [
    "stats.norm.ppf(0.94)"
   ]
  },
  {
   "cell_type": "code",
   "execution_count": 28,
   "id": "f0e3548e",
   "metadata": {
    "ExecuteTime": {
     "end_time": "2023-01-17T16:23:17.698915Z",
     "start_time": "2023-01-17T16:23:17.683924Z"
    }
   },
   "outputs": [
    {
     "data": {
      "text/plain": [
       "0.2533471031357997"
      ]
     },
     "execution_count": 28,
     "metadata": {},
     "output_type": "execute_result"
    }
   ],
   "source": [
    "stats.norm.ppf(0.60)"
   ]
  },
  {
   "cell_type": "code",
   "execution_count": 2,
   "id": "940a016c",
   "metadata": {
    "ExecuteTime": {
     "end_time": "2023-01-18T08:50:56.869340Z",
     "start_time": "2023-01-18T08:50:56.853342Z"
    }
   },
   "outputs": [],
   "source": [
    "# 23) Calculate the t scores of 95% confidence interval, 96% confidence interval, 99% confidence interval for sample size of 25"
   ]
  },
  {
   "cell_type": "code",
   "execution_count": 30,
   "id": "d3045cdb",
   "metadata": {
    "ExecuteTime": {
     "end_time": "2023-01-17T16:30:04.201892Z",
     "start_time": "2023-01-17T16:30:04.187898Z"
    }
   },
   "outputs": [
    {
     "data": {
      "text/plain": [
       "1.7108820799094275"
      ]
     },
     "execution_count": 30,
     "metadata": {},
     "output_type": "execute_result"
    }
   ],
   "source": [
    "#the t scores of 95% confidence interval\n",
    "stats.t.ppf(0.95,24)"
   ]
  },
  {
   "cell_type": "code",
   "execution_count": 31,
   "id": "f347fe7e",
   "metadata": {
    "ExecuteTime": {
     "end_time": "2023-01-17T16:30:29.002775Z",
     "start_time": "2023-01-17T16:30:28.988781Z"
    }
   },
   "outputs": [
    {
     "data": {
      "text/plain": [
       "1.8280511719596342"
      ]
     },
     "execution_count": 31,
     "metadata": {},
     "output_type": "execute_result"
    }
   ],
   "source": [
    "#the t scores of 96% confidence interval\n",
    "stats.t.ppf(0.96,24)"
   ]
  },
  {
   "cell_type": "code",
   "execution_count": 32,
   "id": "fd50d15f",
   "metadata": {
    "ExecuteTime": {
     "end_time": "2023-01-17T16:30:29.965946Z",
     "start_time": "2023-01-17T16:30:29.949954Z"
    }
   },
   "outputs": [
    {
     "data": {
      "text/plain": [
       "2.4921594731575762"
      ]
     },
     "execution_count": 32,
     "metadata": {},
     "output_type": "execute_result"
    }
   ],
   "source": [
    "#the t scores of 99% confidence interval\n",
    "stats.t.ppf(0.99,24)"
   ]
  },
  {
   "cell_type": "code",
   "execution_count": 3,
   "id": "b7b47198",
   "metadata": {
    "ExecuteTime": {
     "end_time": "2023-01-18T08:51:42.919461Z",
     "start_time": "2023-01-18T08:51:42.903462Z"
    }
   },
   "outputs": [],
   "source": [
    "# 24) A Government  company claims that an average light bulb lasts 270 days. A researcher randomly selects 18 bulbs for testing. The sampled bulbs last an average of 260 days, with a standard deviation of 90 days. If the CEO's claim were true, what is the probability that 18 randomly selected bulbs would have an average life of no more than 260 days"
   ]
  },
  {
   "cell_type": "code",
   "execution_count": 36,
   "id": "724ea4c6",
   "metadata": {
    "ExecuteTime": {
     "end_time": "2023-01-17T16:42:19.409639Z",
     "start_time": "2023-01-17T16:42:19.389650Z"
    }
   },
   "outputs": [
    {
     "data": {
      "text/plain": [
       "-0.4714045207910317"
      ]
     },
     "execution_count": 36,
     "metadata": {},
     "output_type": "execute_result"
    }
   ],
   "source": [
    "# find t-scores at x=260; t=(s_mean-P_mean)/(s_SD/sqrt(n))\n",
    "t=(260-270)/(90/18**0.5)\n",
    "t"
   ]
  },
  {
   "cell_type": "code",
   "execution_count": 37,
   "id": "c57d67eb",
   "metadata": {
    "ExecuteTime": {
     "end_time": "2023-01-17T16:42:53.693715Z",
     "start_time": "2023-01-17T16:42:53.607764Z"
    }
   },
   "outputs": [
    {
     "data": {
      "text/plain": [
       "0.32167411684460556"
      ]
     },
     "execution_count": 37,
     "metadata": {},
     "output_type": "execute_result"
    }
   ],
   "source": [
    "p_value=1-stats.t.cdf(abs(-0.4714),df=17)\n",
    "p_value"
   ]
  }
 ],
 "metadata": {
  "hide_input": false,
  "kernelspec": {
   "display_name": "Python 3 (ipykernel)",
   "language": "python",
   "name": "python3"
  },
  "language_info": {
   "codemirror_mode": {
    "name": "ipython",
    "version": 3
   },
   "file_extension": ".py",
   "mimetype": "text/x-python",
   "name": "python",
   "nbconvert_exporter": "python",
   "pygments_lexer": "ipython3",
   "version": "3.9.7"
  }
 },
 "nbformat": 4,
 "nbformat_minor": 5
}
