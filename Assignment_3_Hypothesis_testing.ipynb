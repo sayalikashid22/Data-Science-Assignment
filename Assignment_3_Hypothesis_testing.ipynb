{
 "cells": [
  {
   "cell_type": "markdown",
   "id": "26a0f15e",
   "metadata": {},
   "source": [
    "# <font color=\"Red\"> Hypothesis Testing </font>"
   ]
  },
  {
   "cell_type": "markdown",
   "id": "2c545954",
   "metadata": {},
   "source": [
    "### <font color=\"Blue\"> Q.1. A F&B manager wants to determine whether there is any significant difference in the diameter of the cutlet between two units. A randomly selected sample of cutlets was collected from both units and measured? Analyze the data and draw inferences at 5% significance level. Please state the assumptions and tests that you carried out to check validity of the assumptions. </font>\n"
   ]
  },
  {
   "cell_type": "code",
   "execution_count": 10,
   "id": "0eedab22",
   "metadata": {
    "ExecuteTime": {
     "end_time": "2023-01-18T08:17:21.172086Z",
     "start_time": "2023-01-18T08:17:21.156098Z"
    }
   },
   "outputs": [],
   "source": [
    "import numpy as np\n",
    "import pandas as pd \n",
    "from scipy import stats"
   ]
  },
  {
   "cell_type": "code",
   "execution_count": 2,
   "id": "bca0bf3e",
   "metadata": {
    "ExecuteTime": {
     "end_time": "2023-01-18T07:38:41.846584Z",
     "start_time": "2023-01-18T07:38:41.224456Z"
    }
   },
   "outputs": [],
   "source": [
    "df=pd.read_csv(\"C:/Users/pcc/Downloads/Cutlets.csv\")"
   ]
  },
  {
   "cell_type": "code",
   "execution_count": 3,
   "id": "d92635a3",
   "metadata": {
    "ExecuteTime": {
     "end_time": "2023-01-18T07:38:53.728231Z",
     "start_time": "2023-01-18T07:38:53.528348Z"
    }
   },
   "outputs": [
    {
     "data": {
      "text/html": [
       "<div>\n",
       "<style scoped>\n",
       "    .dataframe tbody tr th:only-of-type {\n",
       "        vertical-align: middle;\n",
       "    }\n",
       "\n",
       "    .dataframe tbody tr th {\n",
       "        vertical-align: top;\n",
       "    }\n",
       "\n",
       "    .dataframe thead th {\n",
       "        text-align: right;\n",
       "    }\n",
       "</style>\n",
       "<table border=\"1\" class=\"dataframe\">\n",
       "  <thead>\n",
       "    <tr style=\"text-align: right;\">\n",
       "      <th></th>\n",
       "      <th>Unit A</th>\n",
       "      <th>Unit B</th>\n",
       "    </tr>\n",
       "  </thead>\n",
       "  <tbody>\n",
       "    <tr>\n",
       "      <th>0</th>\n",
       "      <td>6.8090</td>\n",
       "      <td>6.7703</td>\n",
       "    </tr>\n",
       "    <tr>\n",
       "      <th>1</th>\n",
       "      <td>6.4376</td>\n",
       "      <td>7.5093</td>\n",
       "    </tr>\n",
       "    <tr>\n",
       "      <th>2</th>\n",
       "      <td>6.9157</td>\n",
       "      <td>6.7300</td>\n",
       "    </tr>\n",
       "    <tr>\n",
       "      <th>3</th>\n",
       "      <td>7.3012</td>\n",
       "      <td>6.7878</td>\n",
       "    </tr>\n",
       "    <tr>\n",
       "      <th>4</th>\n",
       "      <td>7.4488</td>\n",
       "      <td>7.1522</td>\n",
       "    </tr>\n",
       "  </tbody>\n",
       "</table>\n",
       "</div>"
      ],
      "text/plain": [
       "   Unit A  Unit B\n",
       "0  6.8090  6.7703\n",
       "1  6.4376  7.5093\n",
       "2  6.9157  6.7300\n",
       "3  7.3012  6.7878\n",
       "4  7.4488  7.1522"
      ]
     },
     "execution_count": 3,
     "metadata": {},
     "output_type": "execute_result"
    }
   ],
   "source": [
    "df.head()"
   ]
  },
  {
   "cell_type": "markdown",
   "id": "460131a5",
   "metadata": {},
   "source": [
    "H0: Mu1-Mu2 = 0 Dimeter of cutlet unit A and Unit B has no significant difference.\n",
    "\n",
    "H1: Mu1-Mu2 != 0 Dimeter of cutlet unit A and Unit B has significant difference."
   ]
  },
  {
   "cell_type": "code",
   "execution_count": 4,
   "id": "4966996d",
   "metadata": {
    "ExecuteTime": {
     "end_time": "2023-01-18T07:39:45.565714Z",
     "start_time": "2023-01-18T07:39:45.257024Z"
    }
   },
   "outputs": [
    {
     "data": {
      "text/plain": [
       "Ttest_indResult(statistic=0.7228688704678063, pvalue=0.4722394724599501)"
      ]
     },
     "execution_count": 4,
     "metadata": {},
     "output_type": "execute_result"
    }
   ],
   "source": [
    "stats.ttest_ind(df[\"Unit A\"],df[\"Unit B\"])"
   ]
  },
  {
   "cell_type": "markdown",
   "id": "d9184baf",
   "metadata": {},
   "source": [
    "#### From above P-value we can say that there is significant difference in diameter of Unit A and Unit B."
   ]
  },
  {
   "cell_type": "markdown",
   "id": "6ae2365a",
   "metadata": {},
   "source": [
    "\n"
   ]
  },
  {
   "attachments": {},
   "cell_type": "markdown",
   "id": "efaf30c5",
   "metadata": {},
   "source": [
    "###  <font color=\"Blue\"> Q.2. A hospital wants to determine whether there is any difference in the average Turn Around Time (TAT) of reports of the laboratories on their preferred list. They collected a random sample and recorded TAT for reports of 4 laboratories. TAT is defined as sample collected to report dispatch. Analyze the data and determine whether there is any difference in average TAT among the different laboratories at 5% significance level.</font>"
   ]
  },
  {
   "cell_type": "code",
   "execution_count": 5,
   "id": "a4c0ad73",
   "metadata": {
    "ExecuteTime": {
     "end_time": "2023-01-18T08:00:04.953932Z",
     "start_time": "2023-01-18T08:00:04.903957Z"
    }
   },
   "outputs": [],
   "source": [
    "df1=pd.read_csv(\"C:/Users/pcc/Downloads/LabTAT.csv\")"
   ]
  },
  {
   "cell_type": "code",
   "execution_count": 6,
   "id": "04637624",
   "metadata": {
    "ExecuteTime": {
     "end_time": "2023-01-18T08:00:15.684251Z",
     "start_time": "2023-01-18T08:00:15.646274Z"
    }
   },
   "outputs": [
    {
     "data": {
      "text/html": [
       "<div>\n",
       "<style scoped>\n",
       "    .dataframe tbody tr th:only-of-type {\n",
       "        vertical-align: middle;\n",
       "    }\n",
       "\n",
       "    .dataframe tbody tr th {\n",
       "        vertical-align: top;\n",
       "    }\n",
       "\n",
       "    .dataframe thead th {\n",
       "        text-align: right;\n",
       "    }\n",
       "</style>\n",
       "<table border=\"1\" class=\"dataframe\">\n",
       "  <thead>\n",
       "    <tr style=\"text-align: right;\">\n",
       "      <th></th>\n",
       "      <th>Laboratory 1</th>\n",
       "      <th>Laboratory 2</th>\n",
       "      <th>Laboratory 3</th>\n",
       "      <th>Laboratory 4</th>\n",
       "    </tr>\n",
       "  </thead>\n",
       "  <tbody>\n",
       "    <tr>\n",
       "      <th>0</th>\n",
       "      <td>185.35</td>\n",
       "      <td>165.53</td>\n",
       "      <td>176.70</td>\n",
       "      <td>166.13</td>\n",
       "    </tr>\n",
       "    <tr>\n",
       "      <th>1</th>\n",
       "      <td>170.49</td>\n",
       "      <td>185.91</td>\n",
       "      <td>198.45</td>\n",
       "      <td>160.79</td>\n",
       "    </tr>\n",
       "    <tr>\n",
       "      <th>2</th>\n",
       "      <td>192.77</td>\n",
       "      <td>194.92</td>\n",
       "      <td>201.23</td>\n",
       "      <td>185.18</td>\n",
       "    </tr>\n",
       "    <tr>\n",
       "      <th>3</th>\n",
       "      <td>177.33</td>\n",
       "      <td>183.00</td>\n",
       "      <td>199.61</td>\n",
       "      <td>176.42</td>\n",
       "    </tr>\n",
       "    <tr>\n",
       "      <th>4</th>\n",
       "      <td>193.41</td>\n",
       "      <td>169.57</td>\n",
       "      <td>204.63</td>\n",
       "      <td>152.60</td>\n",
       "    </tr>\n",
       "  </tbody>\n",
       "</table>\n",
       "</div>"
      ],
      "text/plain": [
       "   Laboratory 1  Laboratory 2  Laboratory 3  Laboratory 4\n",
       "0        185.35        165.53        176.70        166.13\n",
       "1        170.49        185.91        198.45        160.79\n",
       "2        192.77        194.92        201.23        185.18\n",
       "3        177.33        183.00        199.61        176.42\n",
       "4        193.41        169.57        204.63        152.60"
      ]
     },
     "execution_count": 6,
     "metadata": {},
     "output_type": "execute_result"
    }
   ],
   "source": [
    "df1.head()"
   ]
  },
  {
   "cell_type": "markdown",
   "id": "e4453b8d",
   "metadata": {},
   "source": [
    "H0: Mu1 = M2 = M3 = M4 There is no significant difference of avg TAT among Laboratories.\n",
    "\n",
    "H1: Mu1 != M2 != M3 != M4 There is significant difference of avg TAT among Laboratories."
   ]
  },
  {
   "cell_type": "code",
   "execution_count": 7,
   "id": "ed0125c3",
   "metadata": {
    "ExecuteTime": {
     "end_time": "2023-01-18T08:03:43.725970Z",
     "start_time": "2023-01-18T08:03:43.672000Z"
    }
   },
   "outputs": [
    {
     "data": {
      "text/plain": [
       "F_onewayResult(statistic=118.70421654401437, pvalue=2.1156708949992414e-57)"
      ]
     },
     "execution_count": 7,
     "metadata": {},
     "output_type": "execute_result"
    }
   ],
   "source": [
    "anova=stats.f_oneway(df1[\"Laboratory 1\"],df1[\"Laboratory 2\"],df1[\"Laboratory 3\"],df1[\"Laboratory 4\"])\n",
    "anova"
   ]
  },
  {
   "cell_type": "markdown",
   "id": "22f5254c",
   "metadata": {},
   "source": [
    "#### From above P-value we can say that there is no significant difference of avg TAT among Laboratories."
   ]
  },
  {
   "cell_type": "markdown",
   "id": "2ee96410",
   "metadata": {},
   "source": [
    "### <font color =\"Blue\">  Q.3. Sales of products in four different regions is tabulated for males and females. Find if male-female buyer rations are similar across regions.</font>\n"
   ]
  },
  {
   "cell_type": "code",
   "execution_count": 8,
   "id": "62e5fb76",
   "metadata": {
    "ExecuteTime": {
     "end_time": "2023-01-18T08:16:12.915314Z",
     "start_time": "2023-01-18T08:16:12.865343Z"
    }
   },
   "outputs": [],
   "source": [
    "df2=pd.read_csv(\"C:/Users/pcc/Downloads/BuyerRatio.csv\")"
   ]
  },
  {
   "cell_type": "code",
   "execution_count": 9,
   "id": "0da94a51",
   "metadata": {
    "ExecuteTime": {
     "end_time": "2023-01-18T08:16:18.151663Z",
     "start_time": "2023-01-18T08:16:18.114683Z"
    }
   },
   "outputs": [
    {
     "data": {
      "text/html": [
       "<div>\n",
       "<style scoped>\n",
       "    .dataframe tbody tr th:only-of-type {\n",
       "        vertical-align: middle;\n",
       "    }\n",
       "\n",
       "    .dataframe tbody tr th {\n",
       "        vertical-align: top;\n",
       "    }\n",
       "\n",
       "    .dataframe thead th {\n",
       "        text-align: right;\n",
       "    }\n",
       "</style>\n",
       "<table border=\"1\" class=\"dataframe\">\n",
       "  <thead>\n",
       "    <tr style=\"text-align: right;\">\n",
       "      <th></th>\n",
       "      <th>Observed Values</th>\n",
       "      <th>East</th>\n",
       "      <th>West</th>\n",
       "      <th>North</th>\n",
       "      <th>South</th>\n",
       "    </tr>\n",
       "  </thead>\n",
       "  <tbody>\n",
       "    <tr>\n",
       "      <th>0</th>\n",
       "      <td>Males</td>\n",
       "      <td>50</td>\n",
       "      <td>142</td>\n",
       "      <td>131</td>\n",
       "      <td>70</td>\n",
       "    </tr>\n",
       "    <tr>\n",
       "      <th>1</th>\n",
       "      <td>Females</td>\n",
       "      <td>435</td>\n",
       "      <td>1523</td>\n",
       "      <td>1356</td>\n",
       "      <td>750</td>\n",
       "    </tr>\n",
       "  </tbody>\n",
       "</table>\n",
       "</div>"
      ],
      "text/plain": [
       "  Observed Values  East  West  North  South\n",
       "0           Males    50   142    131     70\n",
       "1         Females   435  1523   1356    750"
      ]
     },
     "execution_count": 9,
     "metadata": {},
     "output_type": "execute_result"
    }
   ],
   "source": [
    "df2"
   ]
  },
  {
   "cell_type": "code",
   "execution_count": 11,
   "id": "ab8efea0",
   "metadata": {
    "ExecuteTime": {
     "end_time": "2023-01-18T08:18:28.529530Z",
     "start_time": "2023-01-18T08:18:28.507545Z"
    }
   },
   "outputs": [
    {
     "data": {
      "text/plain": [
       "array([[  50,  142,  131,   70],\n",
       "       [ 435, 1523, 1356,  750]])"
      ]
     },
     "execution_count": 11,
     "metadata": {},
     "output_type": "execute_result"
    }
   ],
   "source": [
    "data=np.array([[50,142,131,70],[435,1523,1356,750]])\n",
    "data"
   ]
  },
  {
   "cell_type": "markdown",
   "id": "84a16914",
   "metadata": {},
   "source": [
    "H0: the buyer ratio of male and female is independent of each other.\n",
    "\n",
    "H1: the buyer ratio of male and female is dependent of each other."
   ]
  },
  {
   "cell_type": "code",
   "execution_count": 12,
   "id": "77d325cf",
   "metadata": {
    "ExecuteTime": {
     "end_time": "2023-01-18T08:19:11.247203Z",
     "start_time": "2023-01-18T08:19:11.163253Z"
    }
   },
   "outputs": [
    {
     "data": {
      "text/plain": [
       "(1.595945538661058,\n",
       " 0.6603094907091882,\n",
       " 3,\n",
       " array([[  42.76531299,  146.81287862,  131.11756787,   72.30424052],\n",
       "        [ 442.23468701, 1518.18712138, 1355.88243213,  747.69575948]]))"
      ]
     },
     "execution_count": 12,
     "metadata": {},
     "output_type": "execute_result"
    }
   ],
   "source": [
    "stats.chi2_contingency(data) #(Chi-square statistics, P value, df, expected value)"
   ]
  },
  {
   "cell_type": "markdown",
   "id": "c663bc9e",
   "metadata": {},
   "source": [
    "#### P value is greater than 0.05, that is the buyer ratio of male and female is independent of each other."
   ]
  },
  {
   "cell_type": "markdown",
   "id": "7f3c6d40",
   "metadata": {},
   "source": [
    "### <font color=\"Blue\"> Q.4. TeleCall uses 4 centers around the globe to process customer order forms. They audit a certain %  of the customer order forms. Any error in order form renders it defective and has to be reworked before processing.  The manager wants to check whether the defective %  varies by centre. Please analyze the data at 5% significance level and help the manager draw appropriate inferences </font>\n"
   ]
  },
  {
   "cell_type": "code",
   "execution_count": 13,
   "id": "12acd545",
   "metadata": {
    "ExecuteTime": {
     "end_time": "2023-01-18T08:30:31.593276Z",
     "start_time": "2023-01-18T08:30:31.569276Z"
    }
   },
   "outputs": [],
   "source": [
    "df3=pd.read_csv(\"C:/Users/pcc/Downloads/Costomer+OrderForm.csv\")"
   ]
  },
  {
   "cell_type": "code",
   "execution_count": 14,
   "id": "1c3fa71e",
   "metadata": {
    "ExecuteTime": {
     "end_time": "2023-01-18T08:30:38.847964Z",
     "start_time": "2023-01-18T08:30:38.815968Z"
    }
   },
   "outputs": [
    {
     "data": {
      "text/html": [
       "<div>\n",
       "<style scoped>\n",
       "    .dataframe tbody tr th:only-of-type {\n",
       "        vertical-align: middle;\n",
       "    }\n",
       "\n",
       "    .dataframe tbody tr th {\n",
       "        vertical-align: top;\n",
       "    }\n",
       "\n",
       "    .dataframe thead th {\n",
       "        text-align: right;\n",
       "    }\n",
       "</style>\n",
       "<table border=\"1\" class=\"dataframe\">\n",
       "  <thead>\n",
       "    <tr style=\"text-align: right;\">\n",
       "      <th></th>\n",
       "      <th>Phillippines</th>\n",
       "      <th>Indonesia</th>\n",
       "      <th>Malta</th>\n",
       "      <th>India</th>\n",
       "    </tr>\n",
       "  </thead>\n",
       "  <tbody>\n",
       "    <tr>\n",
       "      <th>0</th>\n",
       "      <td>Error Free</td>\n",
       "      <td>Error Free</td>\n",
       "      <td>Defective</td>\n",
       "      <td>Error Free</td>\n",
       "    </tr>\n",
       "    <tr>\n",
       "      <th>1</th>\n",
       "      <td>Error Free</td>\n",
       "      <td>Error Free</td>\n",
       "      <td>Error Free</td>\n",
       "      <td>Defective</td>\n",
       "    </tr>\n",
       "    <tr>\n",
       "      <th>2</th>\n",
       "      <td>Error Free</td>\n",
       "      <td>Defective</td>\n",
       "      <td>Defective</td>\n",
       "      <td>Error Free</td>\n",
       "    </tr>\n",
       "    <tr>\n",
       "      <th>3</th>\n",
       "      <td>Error Free</td>\n",
       "      <td>Error Free</td>\n",
       "      <td>Error Free</td>\n",
       "      <td>Error Free</td>\n",
       "    </tr>\n",
       "    <tr>\n",
       "      <th>4</th>\n",
       "      <td>Error Free</td>\n",
       "      <td>Error Free</td>\n",
       "      <td>Defective</td>\n",
       "      <td>Error Free</td>\n",
       "    </tr>\n",
       "    <tr>\n",
       "      <th>...</th>\n",
       "      <td>...</td>\n",
       "      <td>...</td>\n",
       "      <td>...</td>\n",
       "      <td>...</td>\n",
       "    </tr>\n",
       "    <tr>\n",
       "      <th>295</th>\n",
       "      <td>Error Free</td>\n",
       "      <td>Error Free</td>\n",
       "      <td>Error Free</td>\n",
       "      <td>Error Free</td>\n",
       "    </tr>\n",
       "    <tr>\n",
       "      <th>296</th>\n",
       "      <td>Error Free</td>\n",
       "      <td>Error Free</td>\n",
       "      <td>Error Free</td>\n",
       "      <td>Error Free</td>\n",
       "    </tr>\n",
       "    <tr>\n",
       "      <th>297</th>\n",
       "      <td>Error Free</td>\n",
       "      <td>Error Free</td>\n",
       "      <td>Defective</td>\n",
       "      <td>Error Free</td>\n",
       "    </tr>\n",
       "    <tr>\n",
       "      <th>298</th>\n",
       "      <td>Error Free</td>\n",
       "      <td>Error Free</td>\n",
       "      <td>Error Free</td>\n",
       "      <td>Error Free</td>\n",
       "    </tr>\n",
       "    <tr>\n",
       "      <th>299</th>\n",
       "      <td>Error Free</td>\n",
       "      <td>Defective</td>\n",
       "      <td>Defective</td>\n",
       "      <td>Error Free</td>\n",
       "    </tr>\n",
       "  </tbody>\n",
       "</table>\n",
       "<p>300 rows × 4 columns</p>\n",
       "</div>"
      ],
      "text/plain": [
       "    Phillippines   Indonesia       Malta       India\n",
       "0     Error Free  Error Free   Defective  Error Free\n",
       "1     Error Free  Error Free  Error Free   Defective\n",
       "2     Error Free   Defective   Defective  Error Free\n",
       "3     Error Free  Error Free  Error Free  Error Free\n",
       "4     Error Free  Error Free   Defective  Error Free\n",
       "..           ...         ...         ...         ...\n",
       "295   Error Free  Error Free  Error Free  Error Free\n",
       "296   Error Free  Error Free  Error Free  Error Free\n",
       "297   Error Free  Error Free   Defective  Error Free\n",
       "298   Error Free  Error Free  Error Free  Error Free\n",
       "299   Error Free   Defective   Defective  Error Free\n",
       "\n",
       "[300 rows x 4 columns]"
      ]
     },
     "execution_count": 14,
     "metadata": {},
     "output_type": "execute_result"
    }
   ],
   "source": [
    "df3"
   ]
  },
  {
   "cell_type": "code",
   "execution_count": 17,
   "id": "611b8def",
   "metadata": {
    "ExecuteTime": {
     "end_time": "2023-01-18T08:32:11.878422Z",
     "start_time": "2023-01-18T08:32:11.846426Z"
    }
   },
   "outputs": [
    {
     "data": {
      "text/plain": [
       "(Error Free    271\n",
       " Defective      29\n",
       " Name: Phillippines, dtype: int64,\n",
       " Error Free    267\n",
       " Defective      33\n",
       " Name: Indonesia, dtype: int64,\n",
       " Error Free    269\n",
       " Defective      31\n",
       " Name: Malta, dtype: int64,\n",
       " Error Free    280\n",
       " Defective      20\n",
       " Name: India, dtype: int64)"
      ]
     },
     "execution_count": 17,
     "metadata": {},
     "output_type": "execute_result"
    }
   ],
   "source": [
    "df3[\"Phillippines\"].value_counts(),df3[\"Indonesia\"].value_counts(),df3[\"Malta\"].value_counts(),df3[\"India\"].value_counts()"
   ]
  },
  {
   "cell_type": "code",
   "execution_count": 18,
   "id": "4db9b822",
   "metadata": {
    "ExecuteTime": {
     "end_time": "2023-01-18T08:33:46.426945Z",
     "start_time": "2023-01-18T08:33:46.402928Z"
    }
   },
   "outputs": [
    {
     "data": {
      "text/plain": [
       "array([[271, 267, 269, 280],\n",
       "       [ 29,  33,  31,  20]])"
      ]
     },
     "execution_count": 18,
     "metadata": {},
     "output_type": "execute_result"
    }
   ],
   "source": [
    "data1=np.array([[271,267,269,280],[29,33,31,20]])\n",
    "data1"
   ]
  },
  {
   "cell_type": "markdown",
   "id": "d99a3a87",
   "metadata": {},
   "source": [
    "H0: Defective of  4 centers are independent of each other.\n",
    "    \n",
    "H1: Defective of  4 centers are dependent of each other."
   ]
  },
  {
   "cell_type": "code",
   "execution_count": 19,
   "id": "111a718a",
   "metadata": {
    "ExecuteTime": {
     "end_time": "2023-01-18T08:34:02.262823Z",
     "start_time": "2023-01-18T08:34:02.198829Z"
    }
   },
   "outputs": [
    {
     "data": {
      "text/plain": [
       "(3.858960685820355,\n",
       " 0.2771020991233135,\n",
       " 3,\n",
       " array([[271.75, 271.75, 271.75, 271.75],\n",
       "        [ 28.25,  28.25,  28.25,  28.25]]))"
      ]
     },
     "execution_count": 19,
     "metadata": {},
     "output_type": "execute_result"
    }
   ],
   "source": [
    "stats.chi2_contingency(data1)"
   ]
  },
  {
   "cell_type": "markdown",
   "id": "2c444c62",
   "metadata": {},
   "source": [
    "#### P value is greater than 0.05, that is defective of  4 centers are independent of each other"
   ]
  },
  {
   "cell_type": "code",
   "execution_count": null,
   "id": "646f531d",
   "metadata": {},
   "outputs": [],
   "source": []
  }
 ],
 "metadata": {
  "hide_input": false,
  "kernelspec": {
   "display_name": "Python 3 (ipykernel)",
   "language": "python",
   "name": "python3"
  },
  "language_info": {
   "codemirror_mode": {
    "name": "ipython",
    "version": 3
   },
   "file_extension": ".py",
   "mimetype": "text/x-python",
   "name": "python",
   "nbconvert_exporter": "python",
   "pygments_lexer": "ipython3",
   "version": "3.9.7"
  }
 },
 "nbformat": 4,
 "nbformat_minor": 5
}
